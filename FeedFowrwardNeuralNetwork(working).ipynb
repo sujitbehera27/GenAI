{
  "nbformat": 4,
  "nbformat_minor": 0,
  "metadata": {
    "colab": {
      "provenance": [],
      "authorship_tag": "ABX9TyOp4qMiJaNb+Zwd33nKKh4a",
      "include_colab_link": true
    },
    "kernelspec": {
      "name": "python3",
      "display_name": "Python 3"
    },
    "language_info": {
      "name": "python"
    }
  },
  "cells": [
    {
      "cell_type": "markdown",
      "metadata": {
        "id": "view-in-github",
        "colab_type": "text"
      },
      "source": [
        "<a href=\"https://colab.research.google.com/github/sujitbehera27/GenAI/blob/main/FeedFowrwardNeuralNetwork(working).ipynb\" target=\"_parent\"><img src=\"https://colab.research.google.com/assets/colab-badge.svg\" alt=\"Open In Colab\"/></a>"
      ]
    },
    {
      "cell_type": "code",
      "execution_count": 18,
      "metadata": {
        "colab": {
          "base_uri": "https://localhost:8080/"
        },
        "id": "IIh97JEh31Ld",
        "outputId": "ea01defe-979b-4282-839d-58185eab0881"
      },
      "outputs": [
        {
          "output_type": "stream",
          "name": "stdout",
          "text": [
            "Drive already mounted at /content/drive; to attempt to forcibly remount, call drive.mount(\"/content/drive\", force_remount=True).\n",
            "pairs_train shape: (9, 10)\n",
            "labels_train shape: (9,)\n",
            "Epoch 1/10\n",
            "1/1 [==============================] - 1s 1s/step - loss: 18.5999 - accuracy: 0.7778 - val_loss: 3.2684e-18 - val_accuracy: 1.0000\n",
            "Epoch 2/10\n",
            "1/1 [==============================] - 0s 53ms/step - loss: 8.8915 - accuracy: 0.7778 - val_loss: 2.6957 - val_accuracy: 0.0000e+00\n",
            "Epoch 3/10\n",
            "1/1 [==============================] - 0s 76ms/step - loss: 1.6707 - accuracy: 0.2222 - val_loss: 6.4039e-04 - val_accuracy: 1.0000\n",
            "Epoch 4/10\n",
            "1/1 [==============================] - 0s 59ms/step - loss: 1.7050 - accuracy: 0.7778 - val_loss: 3.6457e-04 - val_accuracy: 1.0000\n",
            "Epoch 5/10\n",
            "1/1 [==============================] - 0s 54ms/step - loss: 1.8144 - accuracy: 0.7778 - val_loss: 0.1149 - val_accuracy: 1.0000\n",
            "Epoch 6/10\n",
            "1/1 [==============================] - 0s 71ms/step - loss: 0.5753 - accuracy: 0.7778 - val_loss: 5.8712 - val_accuracy: 0.0000e+00\n",
            "Epoch 7/10\n",
            "1/1 [==============================] - 0s 72ms/step - loss: 4.2656 - accuracy: 0.2222 - val_loss: 0.0375 - val_accuracy: 1.0000\n",
            "Epoch 8/10\n",
            "1/1 [==============================] - 0s 72ms/step - loss: 0.7393 - accuracy: 0.7778 - val_loss: 3.4116e-04 - val_accuracy: 1.0000\n",
            "Epoch 9/10\n",
            "1/1 [==============================] - 0s 69ms/step - loss: 1.7077 - accuracy: 0.7778 - val_loss: 2.0912e-04 - val_accuracy: 1.0000\n",
            "Epoch 10/10\n",
            "1/1 [==============================] - 0s 73ms/step - loss: 1.8112 - accuracy: 0.7778 - val_loss: 0.0045 - val_accuracy: 1.0000\n",
            "CLEANED UP DATA {'MPItemFeedHeader': {'requestId': '1234567890', 'requestBatchId': '9876543210', 'feedDate': '2023-08-23T12:00:00Z', 'processMode': 'MERGE', 'subset': 'INTERNAL', 'mart': 'WALMART_CA', 'sellingChannel': 'marketplace', 'version': '1.0', 'subCategory': 'cases_and_bags'}, 'MPItem': [{'Orderable': {'sku': '1234567890', 'productIdentifiers': {'productIdType': 'GTIN', 'productId': '1234567890123'}, 'productName': 'iPhone 13 Pro Max', 'brand': 'Apple', 'price': 1099.99, 'fulfillmentLagTime': 2, 'ShippingWeight': 1.76}}, {'Orderable': {'sku': '9876543210', 'productIdentifiers': {'productIdType': 'UPC', 'productId': '9876543210123'}, 'productName': 'Samsung Galaxy S22 Ultra', 'brand': 'Samsung', 'price': 1003, 'fulfillmentLagTime': 1, 'ShippingWeight': 2.2}}, {'Orderable': {'sku': '9876542728', 'productIdentifiers': {'productIdType': 'UPC', 'productId': '9876543212827'}, 'productName': 'Samsung Galaxy S99 Ultra', 'brand': 'Samsung', 'price': 1050, 'fulfillmentLagTime': 1, 'ShippingWeight': 2.2}}]}\n"
          ]
        }
      ],
      "source": [
        "import json\n",
        "import numpy as np\n",
        "import tensorflow as tf\n",
        "from sklearn.model_selection import train_test_split\n",
        "from google.colab import drive\n",
        "drive.mount('/content/drive')\n",
        "# Load JSON file\n",
        "def load_json_data(file_path):\n",
        "    with open(file_path, 'r') as f:\n",
        "      data = json.load(f)\n",
        "    return data\n",
        "\n",
        "def preprocess_data(data):\n",
        "    processed_data = []\n",
        "\n",
        "    # Extract categorical variables for one-hot encoding\n",
        "    product_names = []\n",
        "    brands = []\n",
        "\n",
        "    for item in data[\"MPItem\"]:\n",
        "        orderable = item[\"Orderable\"]\n",
        "        sku = orderable[\"sku\"]\n",
        "        product_name = orderable[\"productName\"]\n",
        "        brand = orderable[\"brand\"]\n",
        "        price = orderable[\"price\"]\n",
        "        fulfillment_lag_time = orderable[\"fulfillmentLagTime\"]\n",
        "        shipping_weight = orderable[\"ShippingWeight\"]\n",
        "\n",
        "        if product_name not in product_names:\n",
        "            product_names.append(product_name)\n",
        "        if brand not in brands:\n",
        "            brands.append(brand)\n",
        "\n",
        "        # Create one-hot encoding for categorical variables\n",
        "        product_name_encoded = [1 if p == product_name else 0 for p in product_names]\n",
        "        brand_encoded = [1 if b == brand else 0 for b in brands]\n",
        "\n",
        "        # Create numerical representation\n",
        "        numerical_representation = [price, fulfillment_lag_time, shipping_weight]\n",
        "\n",
        "        # Concatenate categorical and numerical representations\n",
        "        item_representation = product_name_encoded + brand_encoded + numerical_representation\n",
        "        processed_data.append(item_representation)\n",
        "\n",
        "    return np.array(processed_data)\n",
        "\n",
        "# Create pairs of data points and labels for training\n",
        "def preprocess_data(data):\n",
        "    processed_data = []\n",
        "\n",
        "    for item in data[\"MPItem\"]:\n",
        "        orderable = item[\"Orderable\"]\n",
        "        sku = orderable[\"sku\"]\n",
        "        product_name = orderable[\"productName\"]\n",
        "        brand = orderable[\"brand\"]\n",
        "        price = orderable[\"price\"]\n",
        "        fulfillment_lag_time = orderable[\"fulfillmentLagTime\"]\n",
        "        shipping_weight = orderable[\"ShippingWeight\"]\n",
        "\n",
        "        # Simplified one-hot encoding\n",
        "        product_name_encoded = 1 if product_name == \"iPhone 13 Pro Max\" else 0\n",
        "        brand_encoded = 1 if brand == \"Apple\" else 0\n",
        "\n",
        "        # Create the final numerical representation for this item\n",
        "        item_representation = [product_name_encoded, brand_encoded, price, fulfillment_lag_time, shipping_weight]\n",
        "        processed_data.append(item_representation)\n",
        "    return np.array(processed_data)\n",
        "\n",
        "# Load JSON data\n",
        "data = load_json_data('/content/drive/My Drive/ColabNotebooks/data/Walmart-ProductJson-Min.json')\n",
        "\n",
        "# Preprocess data\n",
        "preprocessed_data = preprocess_data(data)\n",
        "\n",
        "# Create pairs and labels for training\n",
        "pairs, labels = create_pairs_and_labels(data)\n",
        "\n",
        "# Split data into training and validation sets\n",
        "pairs_train, pairs_val, labels_train, labels_val = train_test_split(pairs, labels, test_size=0.2, random_state=42)\n",
        "\n",
        "# Build a simple feedforward neural network model\n",
        "def build_model(input_dim):\n",
        "    model = tf.keras.Sequential([\n",
        "        tf.keras.layers.Input(shape=(input_dim,)),\n",
        "        tf.keras.layers.Dense(128, activation='relu'),\n",
        "        tf.keras.layers.Dense(64, activation='relu'),\n",
        "        tf.keras.layers.Dense(1, activation='sigmoid')\n",
        "    ])\n",
        "    model.compile(optimizer='adam', loss='binary_crossentropy', metrics=['accuracy'])\n",
        "    return model\n",
        "\n",
        "# Ensure that the dimensions of pairs_train and labels_train are compatible with the model input\n",
        "print(\"pairs_train shape:\", pairs_train.shape)\n",
        "print(\"labels_train shape:\", labels_train.shape)\n",
        "\n",
        "# Build and train the model\n",
        "model = build_model(input_dim=pairs_train.shape[1])\n",
        "model.fit(pairs_train, labels_train, validation_data=(pairs_val, labels_val), epochs=10)\n",
        "\n",
        "\n",
        "# Remove duplicates from JSON data\n",
        "threshold = 0.9  # Adjust the threshold based on your needs\n",
        "\n",
        "seen_skus = set()\n",
        "cleaned_data = []\n",
        "\n",
        "for item in data[\"MPItem\"]:\n",
        "    sku = item[\"Orderable\"][\"sku\"]\n",
        "    if sku not in seen_skus:\n",
        "        cleaned_data.append(item)\n",
        "        seen_skus.add(sku)\n",
        "\n",
        "# Create cleaned JSON data\n",
        "cleaned_json = {\n",
        "    \"MPItemFeedHeader\": data[\"MPItemFeedHeader\"],\n",
        "    \"MPItem\": cleaned_data\n",
        "}\n",
        "\n",
        "with open('/content/drive/My Drive/ColabNotebooks/data/OP-35.json', 'w') as f:\n",
        "    json.dump(cleaned_json, f)\n",
        "    print(\"CLEANED UP DATA\",cleaned_json)\n"
      ]
    },
    {
      "cell_type": "code",
      "source": [
        "!pip install faker\n"
      ],
      "metadata": {
        "colab": {
          "base_uri": "https://localhost:8080/"
        },
        "id": "oRNfnE6X5stM",
        "outputId": "a126152c-4dd0-4324-9de7-9d9038d85bc5"
      },
      "execution_count": 2,
      "outputs": [
        {
          "output_type": "stream",
          "name": "stdout",
          "text": [
            "Collecting faker\n",
            "  Downloading Faker-19.3.1-py3-none-any.whl (1.7 MB)\n",
            "\u001b[2K     \u001b[90m━━━━━━━━━━━━━━━━━━━━━━━━━━━━━━━━━━━━━━━━\u001b[0m \u001b[32m1.7/1.7 MB\u001b[0m \u001b[31m8.5 MB/s\u001b[0m eta \u001b[36m0:00:00\u001b[0m\n",
            "\u001b[?25hRequirement already satisfied: python-dateutil>=2.4 in /usr/local/lib/python3.10/dist-packages (from faker) (2.8.2)\n",
            "Requirement already satisfied: six>=1.5 in /usr/local/lib/python3.10/dist-packages (from python-dateutil>=2.4->faker) (1.16.0)\n",
            "Installing collected packages: faker\n",
            "Successfully installed faker-19.3.1\n"
          ]
        }
      ]
    }
  ]
}