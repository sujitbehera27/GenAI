{
  "nbformat": 4,
  "nbformat_minor": 0,
  "metadata": {
    "colab": {
      "provenance": [],
      "authorship_tag": "ABX9TyPVoWdhzQh5/6nJL23t/TaJ",
      "include_colab_link": true
    },
    "kernelspec": {
      "name": "python3",
      "display_name": "Python 3"
    },
    "language_info": {
      "name": "python"
    }
  },
  "cells": [
    {
      "cell_type": "markdown",
      "metadata": {
        "id": "view-in-github",
        "colab_type": "text"
      },
      "source": [
        "<a href=\"https://colab.research.google.com/github/sujitbehera27/GenAI/blob/main/Python_programaticRemove(working).ipynb\" target=\"_parent\"><img src=\"https://colab.research.google.com/assets/colab-badge.svg\" alt=\"Open In Colab\"/></a>"
      ]
    },
    {
      "cell_type": "code",
      "execution_count": null,
      "metadata": {
        "id": "YeeUm89i9PQc"
      },
      "outputs": [],
      "source": [
        "import json\n",
        "from gensim.models import Word2Vec\n",
        "from sklearn.metrics.pairwise import cosine_similarity\n",
        "from google.colab import drive\n",
        "drive.mount('/content/drive')\n",
        "\n",
        "with open('/content/drive/My Drive/ColabNotebooks/data/MP_ITEM_SPEC_4.0.json', 'r') as f:\n",
        "  data = json.load(f)\n",
        "  print(data)\n",
        "# Extract key values from the JSON array of objects\n",
        "key_values = [key for obj in data for key in obj.keys()]\n",
        "\n",
        "seen_titles = {}\n",
        "new_data = []\n",
        "\n",
        "# Iterate through the objects in the JSON array\n",
        "for obj in data:\n",
        "    title = obj.get('title', None)\n",
        "    if title is not None:\n",
        "        if title in seen_titles:\n",
        "            print(f'Removing duplicate object with title: \"{title}\"')\n",
        "        else:\n",
        "            seen_titles[title] = True\n",
        "            new_data.append(obj)\n",
        "            print(new_data)\n",
        "# Save the updated JSON file\n",
        "updated_json_file_path = '/content/drive/My Drive/ColabNotebooks/data/OP-2.json'\n",
        "with open(updated_json_file_path, 'w') as updated_json_file:\n",
        "    json.dump(new_data, updated_json_file, indent=4)\n",
        "\n",
        "print(\"Duplicates removed and updated JSON file saved.\")\n",
        "\n",
        "\n"
      ]
    }
  ]
}