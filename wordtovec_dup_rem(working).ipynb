{
  "nbformat": 4,
  "nbformat_minor": 0,
  "metadata": {
    "colab": {
      "provenance": [],
      "authorship_tag": "ABX9TyPNa8UOdNGOdMC5+Ck0gP4s",
      "include_colab_link": true
    },
    "kernelspec": {
      "name": "python3",
      "display_name": "Python 3"
    },
    "language_info": {
      "name": "python"
    }
  },
  "cells": [
    {
      "cell_type": "markdown",
      "metadata": {
        "id": "view-in-github",
        "colab_type": "text"
      },
      "source": [
        "<a href=\"https://colab.research.google.com/github/sujitbehera27/GenAI/blob/main/wordtovec_dup_rem(working).ipynb\" target=\"_parent\"><img src=\"https://colab.research.google.com/assets/colab-badge.svg\" alt=\"Open In Colab\"/></a>"
      ]
    },
    {
      "cell_type": "code",
      "execution_count": null,
      "metadata": {
        "colab": {
          "base_uri": "https://localhost:8080/"
        },
        "id": "mXjPe4i5HaZd",
        "outputId": "d0293c81-40d7-4415-a13a-ce42c1230f6d"
      },
      "outputs": [
        {
          "output_type": "stream",
          "name": "stdout",
          "text": [
            "Drive already mounted at /content/drive; to attempt to forcibly remount, call drive.mount(\"/content/drive\", force_remount=True).\n",
            "[{'id': 1, 'title': 'Apple iPhone 13 Pro', 'description': 'The most advanced iPhone yet.', 'price': 999, 'stock': 10, 'brand': 'Apple', 'category': 'smartphones'}, {'id': 2, 'title': 'Samsung Galaxy S22 Ultra', 'description': 'The ultimate Android smartphone.', 'price': 1199, 'stock': 5, 'brand': 'Samsung', 'category': 'smartphones'}, {'id': 3, 'title': 'Apple iPhone 13 Pro', 'description': 'The most advanced iPhone yet.', 'price': 999, 'stock': 10, 'brand': 'Apple', 'category': 'smartphones'}, {'id': 4, 'title': 'Google Pixel 6 Pro', 'description': 'The best Android phone for photography.', 'price': 899, 'stock': 15, 'brand': 'Google', 'category': 'smartphones'}]\n",
            "Duplicate objects removed and updated JSON file saved.\n"
          ]
        }
      ],
      "source": [
        "import json\n",
        "from gensim.models import Word2Vec\n",
        "from sklearn.metrics.pairwise import cosine_similarity\n",
        "from google.colab import drive\n",
        "drive.mount('/content/drive')\n",
        "\n",
        "with open('/content/drive/My Drive/ColabNotebooks/data/data2.json', 'r') as f:\n",
        "  data = json.load(f)\n",
        "  print(data)\n",
        "\n",
        "# Create a dictionary to store unique objects based on title\n",
        "unique_objects = {}\n",
        "\n",
        "# Train a Word2Vec model on title values\n",
        "title_values = [obj.get('title', '') for obj in data]\n",
        "model = Word2Vec([title_values], vector_size=100, window=5, min_count=1, sg=1)\n",
        "\n",
        "# Iterate through the objects in the JSON array\n",
        "for obj in data:\n",
        "    title = obj.get('title', '')\n",
        "    if title not in unique_objects:\n",
        "        unique_objects[title] = obj\n",
        "    else:\n",
        "        similarity_existing = model.wv.similarity(title, unique_objects[title]['title'])\n",
        "        similarity_current = model.wv.similarity(title, obj['title'])\n",
        "        if similarity_current > similarity_existing:\n",
        "            unique_objects[title] = obj\n",
        "\n",
        "# Extract the unique objects\n",
        "unique_data = list(unique_objects.values())\n",
        "\n",
        "updated_json_file_path = '/content/drive/My Drive/ColabNotebooks/data/W2V-1.json.json'\n",
        "with open(updated_json_file_path, 'w') as updated_json_file:\n",
        "    json.dump(unique_data, updated_json_file, indent=4)\n",
        "\n",
        "print(\"Duplicate objects removed and updated JSON file saved.\")\n"
      ]
    }
  ]
}